{
 "cells": [
  {
   "cell_type": "code",
   "execution_count": 1,
   "metadata": {
    "collapsed": true
   },
   "outputs": [],
   "source": [
    "import tbat"
   ]
  },
  {
   "cell_type": "code",
   "execution_count": 2,
   "metadata": {
    "collapsed": false
   },
   "outputs": [
    {
     "name": "stderr",
     "output_type": "stream",
     "text": [
      "INFO:requests.packages.urllib3.connectionpool:Starting new HTTPS connection (1): www.thebluealliance.com\n"
     ]
    }
   ],
   "source": [
    "all_teams = tbat.get_all_teams()"
   ]
  },
  {
   "cell_type": "code",
   "execution_count": 3,
   "metadata": {
    "collapsed": false
   },
   "outputs": [
    {
     "name": "stderr",
     "output_type": "stream",
     "text": [
      "INFO:requests.packages.urllib3.connectionpool:Resetting dropped connection: www.thebluealliance.com\n",
      "INFO:requests.packages.urllib3.connectionpool:Resetting dropped connection: www.thebluealliance.com\n",
      "INFO:requests.packages.urllib3.connectionpool:Resetting dropped connection: www.thebluealliance.com\n",
      "INFO:requests.packages.urllib3.connectionpool:Resetting dropped connection: www.thebluealliance.com\n",
      "INFO:requests.packages.urllib3.connectionpool:Resetting dropped connection: www.thebluealliance.com\n",
      "INFO:requests.packages.urllib3.connectionpool:Resetting dropped connection: www.thebluealliance.com\n",
      "INFO:requests.packages.urllib3.connectionpool:Resetting dropped connection: www.thebluealliance.com\n",
      "INFO:requests.packages.urllib3.connectionpool:Resetting dropped connection: www.thebluealliance.com\n",
      "INFO:requests.packages.urllib3.connectionpool:Resetting dropped connection: www.thebluealliance.com\n",
      "INFO:requests.packages.urllib3.connectionpool:Resetting dropped connection: www.thebluealliance.com\n",
      "INFO:requests.packages.urllib3.connectionpool:Resetting dropped connection: www.thebluealliance.com\n",
      "INFO:requests.packages.urllib3.connectionpool:Resetting dropped connection: www.thebluealliance.com\n",
      "INFO:requests.packages.urllib3.connectionpool:Resetting dropped connection: www.thebluealliance.com\n",
      "INFO:requests.packages.urllib3.connectionpool:Resetting dropped connection: www.thebluealliance.com\n",
      "INFO:requests.packages.urllib3.connectionpool:Resetting dropped connection: www.thebluealliance.com\n",
      "INFO:requests.packages.urllib3.connectionpool:Resetting dropped connection: www.thebluealliance.com\n",
      "INFO:requests.packages.urllib3.connectionpool:Resetting dropped connection: www.thebluealliance.com\n",
      "INFO:requests.packages.urllib3.connectionpool:Resetting dropped connection: www.thebluealliance.com\n",
      "INFO:requests.packages.urllib3.connectionpool:Resetting dropped connection: www.thebluealliance.com\n",
      "INFO:requests.packages.urllib3.connectionpool:Resetting dropped connection: www.thebluealliance.com\n",
      "INFO:requests.packages.urllib3.connectionpool:Resetting dropped connection: www.thebluealliance.com\n",
      "INFO:requests.packages.urllib3.connectionpool:Resetting dropped connection: www.thebluealliance.com\n",
      "INFO:requests.packages.urllib3.connectionpool:Resetting dropped connection: www.thebluealliance.com\n",
      "INFO:requests.packages.urllib3.connectionpool:Resetting dropped connection: www.thebluealliance.com\n",
      "INFO:requests.packages.urllib3.connectionpool:Resetting dropped connection: www.thebluealliance.com\n",
      "INFO:requests.packages.urllib3.connectionpool:Resetting dropped connection: www.thebluealliance.com\n",
      "INFO:requests.packages.urllib3.connectionpool:Resetting dropped connection: www.thebluealliance.com\n",
      "INFO:requests.packages.urllib3.connectionpool:Resetting dropped connection: www.thebluealliance.com\n",
      "INFO:requests.packages.urllib3.connectionpool:Resetting dropped connection: www.thebluealliance.com\n",
      "INFO:requests.packages.urllib3.connectionpool:Resetting dropped connection: www.thebluealliance.com\n",
      "INFO:requests.packages.urllib3.connectionpool:Resetting dropped connection: www.thebluealliance.com\n",
      "INFO:requests.packages.urllib3.connectionpool:Resetting dropped connection: www.thebluealliance.com\n",
      "INFO:requests.packages.urllib3.connectionpool:Resetting dropped connection: www.thebluealliance.com\n",
      "INFO:requests.packages.urllib3.connectionpool:Resetting dropped connection: www.thebluealliance.com\n",
      "INFO:requests.packages.urllib3.connectionpool:Resetting dropped connection: www.thebluealliance.com\n",
      "INFO:requests.packages.urllib3.connectionpool:Resetting dropped connection: www.thebluealliance.com\n",
      "INFO:requests.packages.urllib3.connectionpool:Resetting dropped connection: www.thebluealliance.com\n",
      "INFO:requests.packages.urllib3.connectionpool:Resetting dropped connection: www.thebluealliance.com\n",
      "INFO:requests.packages.urllib3.connectionpool:Resetting dropped connection: www.thebluealliance.com\n",
      "INFO:requests.packages.urllib3.connectionpool:Resetting dropped connection: www.thebluealliance.com\n",
      "INFO:requests.packages.urllib3.connectionpool:Resetting dropped connection: www.thebluealliance.com\n",
      "INFO:requests.packages.urllib3.connectionpool:Resetting dropped connection: www.thebluealliance.com\n",
      "INFO:requests.packages.urllib3.connectionpool:Resetting dropped connection: www.thebluealliance.com\n",
      "INFO:requests.packages.urllib3.connectionpool:Resetting dropped connection: www.thebluealliance.com\n",
      "INFO:requests.packages.urllib3.connectionpool:Resetting dropped connection: www.thebluealliance.com\n",
      "INFO:requests.packages.urllib3.connectionpool:Resetting dropped connection: www.thebluealliance.com\n",
      "INFO:requests.packages.urllib3.connectionpool:Resetting dropped connection: www.thebluealliance.com\n",
      "INFO:requests.packages.urllib3.connectionpool:Resetting dropped connection: www.thebluealliance.com\n",
      "INFO:requests.packages.urllib3.connectionpool:Resetting dropped connection: www.thebluealliance.com\n",
      "INFO:requests.packages.urllib3.connectionpool:Resetting dropped connection: www.thebluealliance.com\n",
      "INFO:requests.packages.urllib3.connectionpool:Resetting dropped connection: www.thebluealliance.com\n",
      "INFO:requests.packages.urllib3.connectionpool:Resetting dropped connection: www.thebluealliance.com\n",
      "INFO:requests.packages.urllib3.connectionpool:Resetting dropped connection: www.thebluealliance.com\n",
      "INFO:requests.packages.urllib3.connectionpool:Resetting dropped connection: www.thebluealliance.com\n",
      "INFO:requests.packages.urllib3.connectionpool:Resetting dropped connection: www.thebluealliance.com\n",
      "INFO:requests.packages.urllib3.connectionpool:Resetting dropped connection: www.thebluealliance.com\n",
      "INFO:requests.packages.urllib3.connectionpool:Resetting dropped connection: www.thebluealliance.com\n",
      "INFO:requests.packages.urllib3.connectionpool:Resetting dropped connection: www.thebluealliance.com\n"
     ]
    }
   ],
   "source": [
    "for team in all_teams:\n",
    "    active_years = tbat.get_team_years_participated(team['team_number'])\n",
    "    if 2017 in active_years:\n",
    "        team['current'] = True\n",
    "    else:\n",
    "        team['current'] = False"
   ]
  },
  {
   "cell_type": "code",
   "execution_count": 119,
   "metadata": {
    "collapsed": false,
    "scrolled": false
   },
   "outputs": [
    {
     "data": {
      "text/plain": [
       "[{'country_name': 'USA',\n",
       "  'current': True,\n",
       "  'home_champ': 'n',\n",
       "  'key': 'frc1',\n",
       "  'locality': 'Pontiac',\n",
       "  'location': 'Pontiac, Michigan 48340, USA',\n",
       "  'motto': 'Real Winners are Ordinary People with Extraordinary Determination',\n",
       "  'name': 'The Chrysler Foundation/BAE Systems/Hirotec & Oakland Schools Technical Campus--Ne',\n",
       "  'nickname': 'The Juggernauts',\n",
       "  'region': 'Michigan',\n",
       "  'rookie_year': 1997,\n",
       "  'team_number': 1,\n",
       "  'website': 'http://www.juggernauts.org/'},\n",
       " {'country_name': 'USA',\n",
       "  'current': True,\n",
       "  'home_champ': 's',\n",
       "  'key': 'frc4',\n",
       "  'locality': 'Van Nuys',\n",
       "  'location': 'Van Nuys, California 91406, USA',\n",
       "  'motto': 'Igniting the flames of passion',\n",
       "  'name': 'BOEING/Sawing Services/Gibbs CAM/SolidWorks/Boston Scientific/WAAG/Roberts Tool Co./Full Scale Effects & High Tech La',\n",
       "  'nickname': 'Team 4 ELEMENT',\n",
       "  'region': 'California',\n",
       "  'rookie_year': 1997,\n",
       "  'team_number': 4,\n",
       "  'website': 'http://www.team4element.com'},\n",
       " {'country_name': 'USA',\n",
       "  'current': False,\n",
       "  'home_champ': 'n',\n",
       "  'key': 'frc5',\n",
       "  'locality': 'Melvindale',\n",
       "  'location': 'Melvindale, MI, USA',\n",
       "  'motto': None,\n",
       "  'name': 'Ford FIRST Robotics & Melvindale High School',\n",
       "  'nickname': 'Robocards',\n",
       "  'region': 'Michigan',\n",
       "  'rookie_year': 1998,\n",
       "  'team_number': 5,\n",
       "  'website': 'http://www.robocards.org'}]"
      ]
     },
     "execution_count": 119,
     "metadata": {},
     "output_type": "execute_result"
    }
   ],
   "source": [
    "all_teams[0:3]"
   ]
  },
  {
   "cell_type": "code",
   "execution_count": 120,
   "metadata": {
    "collapsed": false
   },
   "outputs": [
    {
     "data": {
      "text/plain": [
       "dict_keys(['website', 'locality', 'current', 'key', 'nickname', 'motto', 'region', 'country_name', 'rookie_year', 'name', 'team_number', 'location', 'home_champ'])"
      ]
     },
     "execution_count": 120,
     "metadata": {},
     "output_type": "execute_result"
    }
   ],
   "source": [
    "all_teams[0].keys()"
   ]
  },
  {
   "cell_type": "code",
   "execution_count": 121,
   "metadata": {
    "collapsed": false
   },
   "outputs": [],
   "source": [
    "for team in all_teams:\n",
    "    if team['country_name'] == 'Kingdom':\n",
    "        print('check team %s' % team['team_number'])\n",
    "        team['country_name'] = 'United Kingdom'"
   ]
  },
  {
   "cell_type": "code",
   "execution_count": 122,
   "metadata": {
    "collapsed": false
   },
   "outputs": [
    {
     "data": {
      "text/plain": [
       "['USA',\n",
       " None,\n",
       " 'Canada',\n",
       " 'Brazil',\n",
       " 'United Kingdom',\n",
       " 'Mexico',\n",
       " 'Ecuador',\n",
       " 'Israel',\n",
       " 'Netherlands',\n",
       " 'Chile',\n",
       " 'Turkey',\n",
       " 'Germany',\n",
       " 'Philippines',\n",
       " 'Australia',\n",
       " 'Bosnia-Herzegovina',\n",
       " 'Spain',\n",
       " 'Dominican Republic',\n",
       " 'Taiwan',\n",
       " 'China',\n",
       " 'Singapore',\n",
       " 'United Arab Emirates',\n",
       " 'Pakistan',\n",
       " 'Colombia',\n",
       " 'Kazakhstan',\n",
       " 'France',\n",
       " 'Japan',\n",
       " 'Poland',\n",
       " 'Czech Republic',\n",
       " 'India',\n",
       " 'Denmark',\n",
       " 'Switzerland',\n",
       " 'Vietnam',\n",
       " 'Morocco']"
      ]
     },
     "execution_count": 122,
     "metadata": {},
     "output_type": "execute_result"
    }
   ],
   "source": [
    "countries = []\n",
    "for n in all_teams:\n",
    "    if n['country_name'] not in countries:\n",
    "        countries.append(n['country_name'])\n",
    "\n",
    "countries\n"
   ]
  },
  {
   "cell_type": "code",
   "execution_count": 123,
   "metadata": {
    "collapsed": false
   },
   "outputs": [],
   "source": [
    "abb = ['AL', 'AK', 'AZ', 'AR', 'CA', 'CO', 'CT', 'DE', 'FL', 'GA', 'HI', 'ID', 'IL', 'IN', 'IA', 'KS', 'KY', 'LA', 'ME', 'MD', 'MA', 'MI', 'MN', 'MS', 'MO', 'MT', 'NE', 'NV', 'NH', 'NJ', 'NM', 'NY', 'NC', 'ND', 'OH', 'OK', 'OR', 'PA', 'RI', 'SC', 'SD', 'TN', 'TX', 'UT', 'VT', 'VA', 'WA', 'WV', 'WI', 'WY', 'DC', 'PR']\n",
    "st = ['Alabama', 'Alaska', 'Arizona', 'Arkansas', 'California', 'Colorado', 'Connecticut', 'Delaware', 'Florida', 'Georgia', 'Hawaii', 'Idaho', 'Illinois', 'Indiana', 'Iowa', 'Kansas', 'Kentucky', 'Louisiana', 'Maine', 'Maryland', 'Massachusetts', 'Michigan', 'Minnesota', 'Mississippi', 'Missouri', 'Montana', 'Nebraska', 'Nevada', 'New Hampshire', 'New Jersey', 'New Mexico', 'New York', 'North Carolina', 'North Dakota', 'Ohio', 'Oklahoma', 'Oregon', 'Pennsylvania', 'Rhode Island', 'South Carolina', 'South Dakota', 'Tennessee', 'Texas', 'Utah', 'Vermont', 'Virginia', 'Washington', 'West Virginia', 'Wisconsin', 'Wyoming', 'District of Columbia', 'Puerto Rico']\n",
    "\n",
    "for team in all_teams:\n",
    "    if team['country_name'] == 'USA':\n",
    "        for i in range(len(abb)):\n",
    "            if team['region'] == abb[i]:\n",
    "                team['region'] = st[i]\n",
    "        if team['region'] == 'Missisippi':\n",
    "            team['region'] = 'Mississippi'\n",
    "    \n",
    "    if team['country_name'] == 'Canada':\n",
    "        if team['region'] == 'Alberta':\n",
    "            team['region'] = 'AB'\n",
    "        if team['region'] == 'British Columbia':\n",
    "            team['region'] = 'BC'\n",
    "        if team['region'] == 'Ontario':\n",
    "            team['region'] = 'ON'\n",
    "        if team['region'] == 'Québec':\n",
    "            team['region'] = 'QC'\n",
    "        if team['region'] == 'Saskatchewan':\n",
    "            team['region'] = 'SK'\n",
    "        if team['region'] == 'Yukon Territory':\n",
    "            team['region'] = 'YT'"
   ]
  },
  {
   "cell_type": "code",
   "execution_count": 124,
   "metadata": {
    "collapsed": false
   },
   "outputs": [],
   "source": [
    "states = []\n",
    "provinces = []\n",
    "for team in all_teams:\n",
    "    if team['country_name'] == 'USA':\n",
    "        if team['region'] not in states:\n",
    "            states.append(team['region'])\n",
    "    if team['country_name'] == 'Canada':\n",
    "        if team['region'] not in provinces:\n",
    "            provinces.append(team['region'])"
   ]
  },
  {
   "cell_type": "code",
   "execution_count": 125,
   "metadata": {
    "collapsed": false
   },
   "outputs": [
    {
     "data": {
      "text/plain": [
       "['AB', 'BC', 'NB', 'NL', 'NS', 'ON', 'QC', 'SK', 'YT']"
      ]
     },
     "execution_count": 125,
     "metadata": {},
     "output_type": "execute_result"
    }
   ],
   "source": [
    "sorted(provinces)"
   ]
  },
  {
   "cell_type": "code",
   "execution_count": 126,
   "metadata": {
    "collapsed": false
   },
   "outputs": [
    {
     "data": {
      "text/plain": [
       "['Alabama',\n",
       " 'Alaska',\n",
       " 'Arizona',\n",
       " 'Arkansas',\n",
       " 'California',\n",
       " 'Colorado',\n",
       " 'Connecticut',\n",
       " 'Delaware',\n",
       " 'District of Columbia',\n",
       " 'Florida',\n",
       " 'Georgia',\n",
       " 'Guam',\n",
       " 'Hawaii',\n",
       " 'Idaho',\n",
       " 'Illinois',\n",
       " 'Indiana',\n",
       " 'Iowa',\n",
       " 'Kansas',\n",
       " 'Kentucky',\n",
       " 'Louisiana',\n",
       " 'Maine',\n",
       " 'Maryland',\n",
       " 'Massachusetts',\n",
       " 'Michigan',\n",
       " 'Minnesota',\n",
       " 'Mississippi',\n",
       " 'Missouri',\n",
       " 'Montana',\n",
       " 'Nebraska',\n",
       " 'Nevada',\n",
       " 'New Hampshire',\n",
       " 'New Jersey',\n",
       " 'New Mexico',\n",
       " 'New York',\n",
       " 'North Carolina',\n",
       " 'North Dakota',\n",
       " 'Ohio',\n",
       " 'Oklahoma',\n",
       " 'Oregon',\n",
       " 'Pennsylvania',\n",
       " 'Puerto Rico',\n",
       " 'Rhode Island',\n",
       " 'South Carolina',\n",
       " 'South Dakota',\n",
       " 'Tennessee',\n",
       " 'Texas',\n",
       " 'Utah',\n",
       " 'Vermont',\n",
       " 'Virginia',\n",
       " 'Washington',\n",
       " 'West Virginia',\n",
       " 'Wisconsin',\n",
       " 'Wyoming']"
      ]
     },
     "execution_count": 126,
     "metadata": {},
     "output_type": "execute_result"
    }
   ],
   "source": [
    "sorted(states)"
   ]
  },
  {
   "cell_type": "code",
   "execution_count": 127,
   "metadata": {
    "collapsed": false
   },
   "outputs": [],
   "source": [
    "country_dict = {\n",
    "    'USA': {\n",
    "        'Maine': 'n',\n",
    "        'New Hampshire': 'n',\n",
    "        'Vermont': 'n',\n",
    "        'Massachusetts': 'n',\n",
    "        'Connecticut': 'n',\n",
    "        'Rhode Island': 'n',\n",
    "        'New York': 'n',\n",
    "        'New Jersey': 'n',\n",
    "        'Pennsylvania': 'n',\n",
    "        'Delaware': 'n',\n",
    "        'Maryland': 'n',\n",
    "        'District of Columbia': 'n',\n",
    "        'Virginia': 'n',\n",
    "        'West Virginia': 'n',\n",
    "        'Ohio': 'n',\n",
    "        'Michigan': 'n',\n",
    "        'Indiana': 'n',\n",
    "        'Kentucky': 'n',\n",
    "        'Illinois': 'n',\n",
    "        'Wisconsin': 'n',\n",
    "        'Minnesota': 'n',\n",
    "        'Iowa': 'n',\n",
    "        'Missouri': 'n',\n",
    "        'North Dakota': 'n',\n",
    "        'South Dakota': 'n',\n",
    "        'Nebraska': 'n',\n",
    "        'Kansas': 'n',\n",
    "        'Guam': 'n',\n",
    "        'Montana': 's',\n",
    "        'Wyoming': 's',\n",
    "        'Idaho': 's',\n",
    "        'Washington': 's',\n",
    "        'Oregon': 's',\n",
    "        'California': 's',\n",
    "        'Nevada': 's',\n",
    "        'Utah': 's',\n",
    "        'Arizona': 's',\n",
    "        'Colorado': 's',\n",
    "        'New Mexico': 's',\n",
    "        'Texas': 's',\n",
    "        'Oklahoma': 's',\n",
    "        'Arkansas': 's',\n",
    "        'Louisiana': 's',\n",
    "        'Mississippi': 's',\n",
    "        'Tennessee': 's',\n",
    "        'Alabama': 's',\n",
    "        'Georgia': 's',\n",
    "        'Florida': 's',\n",
    "        'South Carolina': 's',\n",
    "        'North Carolina': 's',\n",
    "        'Alaska': 's',\n",
    "        'Hawaii': 's',\n",
    "        'Puerto Rico': 's'\n",
    "        \n",
    "    },\n",
    "    'Canada': {\n",
    "        'PE': 'n',\n",
    "        'NB': 'n',\n",
    "        'NS': 'n',\n",
    "        'NL': 'n',\n",
    "        'QC': 'n',\n",
    "        'ON': 'n',\n",
    "        'MB': 'n',\n",
    "        'NU': 'n',\n",
    "        'SK': 's',\n",
    "        'AB': 's',\n",
    "        'BC': 's',\n",
    "        'NT': 's',\n",
    "        'YT': 's'\n",
    "        \n",
    "    },\n",
    "    'Brazil': 's',\n",
    "    'Mexico': 's',\n",
    "    'Ecuador': 's',\n",
    "    'Israel': 's',\n",
    "    'United Kingdom': 'n',\n",
    "    'Netherlands': 'n',\n",
    "    'Chile': 's',\n",
    "    'Turkey': 's',\n",
    "    'Germany': 'n',\n",
    "    'Philippines': 's',\n",
    "    'Australia': 's',\n",
    "    'Bosnia-Herzegovina': 'n',\n",
    "    'Spain': 'n',\n",
    "    'Dominican Republic': 's',\n",
    "    'Taiwan': 'n',\n",
    "    'China': 's',\n",
    "    'Singapore': 's',\n",
    "    'United Arab Emirates': 's',\n",
    "    'Pakistan': 'n',\n",
    "    'Colombia': 's',\n",
    "    'Kazakhstan': 'n',\n",
    "    'France': 'n',\n",
    "    'Japan': 'n',\n",
    "    'Poland': 'n',\n",
    "    'Czech Republic': 'n',\n",
    "    'India': 'n',\n",
    "    'Denmark': 'n',\n",
    "    'Switzerland': 'n',\n",
    "    'Vietnam': 'n',\n",
    "    'Morocco': 's'\n",
    "}"
   ]
  },
  {
   "cell_type": "code",
   "execution_count": 128,
   "metadata": {
    "collapsed": false
   },
   "outputs": [],
   "source": [
    "current_teams = [team for team in all_teams if team['current']]\n",
    "\n",
    "for team in current_teams:\n",
    "    # only check current teams\n",
    "    if team['country_name'] == 'USA':\n",
    "    # team is from US, check state\n",
    "        team['home_champ'] = country_dict['USA'][team['region']]\n",
    "    elif team['country_name'] == 'Canada':\n",
    "    # team is from Canada, check province\n",
    "        team['home_champ'] = country_dict['Canada'][team['region']]\n",
    "    else:\n",
    "        team['home_champ'] = country_dict[team['country_name']]"
   ]
  },
  {
   "cell_type": "code",
   "execution_count": 129,
   "metadata": {
    "collapsed": false
   },
   "outputs": [
    {
     "data": {
      "text/plain": [
       "[{'country_name': 'USA',\n",
       "  'current': True,\n",
       "  'home_champ': 'n',\n",
       "  'key': 'frc1',\n",
       "  'locality': 'Pontiac',\n",
       "  'location': 'Pontiac, Michigan 48340, USA',\n",
       "  'motto': 'Real Winners are Ordinary People with Extraordinary Determination',\n",
       "  'name': 'The Chrysler Foundation/BAE Systems/Hirotec & Oakland Schools Technical Campus--Ne',\n",
       "  'nickname': 'The Juggernauts',\n",
       "  'region': 'Michigan',\n",
       "  'rookie_year': 1997,\n",
       "  'team_number': 1,\n",
       "  'website': 'http://www.juggernauts.org/'},\n",
       " {'country_name': 'USA',\n",
       "  'current': True,\n",
       "  'home_champ': 's',\n",
       "  'key': 'frc4',\n",
       "  'locality': 'Van Nuys',\n",
       "  'location': 'Van Nuys, California 91406, USA',\n",
       "  'motto': 'Igniting the flames of passion',\n",
       "  'name': 'BOEING/Sawing Services/Gibbs CAM/SolidWorks/Boston Scientific/WAAG/Roberts Tool Co./Full Scale Effects & High Tech La',\n",
       "  'nickname': 'Team 4 ELEMENT',\n",
       "  'region': 'California',\n",
       "  'rookie_year': 1997,\n",
       "  'team_number': 4,\n",
       "  'website': 'http://www.team4element.com'},\n",
       " {'country_name': 'USA',\n",
       "  'current': True,\n",
       "  'home_champ': 's',\n",
       "  'key': 'frc8',\n",
       "  'locality': 'Palo Alto',\n",
       "  'location': 'Palo Alto, California 94301, USA',\n",
       "  'motto': 'Making Humans Obsolete Since 1996',\n",
       "  'name': \"Google/Brin Wojcicki Foundation/NVIDIA/Intuitive Surgical /Webcor Builders/Landec/Hassett hardware/Kirk's Steakburgers/Dropbox&Palo Alto High\",\n",
       "  'nickname': 'Paly Robotics',\n",
       "  'region': 'California',\n",
       "  'rookie_year': 1996,\n",
       "  'team_number': 8,\n",
       "  'website': 'http://www.palyrobotics.com/'}]"
      ]
     },
     "execution_count": 129,
     "metadata": {},
     "output_type": "execute_result"
    }
   ],
   "source": [
    "current_teams[0:3]"
   ]
  },
  {
   "cell_type": "code",
   "execution_count": 130,
   "metadata": {
    "collapsed": true
   },
   "outputs": [],
   "source": [
    "north_teams = [team['team_number'] for team in current_teams if team['home_champ'] == 'n']\n",
    "south_teams = [team['team_number'] for team in current_teams if team['home_champ'] == 's']"
   ]
  },
  {
   "cell_type": "code",
   "execution_count": 131,
   "metadata": {
    "collapsed": false
   },
   "outputs": [
    {
     "name": "stdout",
     "output_type": "stream",
     "text": [
      "[1, 11, 20, 25, 27, 28, 33, 41, 45, 48, 51, 56, 58, 63, 66, 67, 68, 69, 70, 71, 74, 75, 78, 81, 85, 87, 88, 93, 94, 95, 97, 101, 102, 103, 107, 111, 116, 117, 120, 121, 123, 125, 126, 128, 131, 133, 135, 136, 138, 141, 144, 145, 151, 155, 156, 157, 166, 167, 171, 172, 173, 174, 175, 176, 177, 178, 181, 188, 190, 191, 193, 195, 201, 203, 204, 213, 216, 217, 219, 222, 223, 224, 225, 226, 228, 229, 230, 234, 236, 237, 238, 240, 244, 245, 246, 247, 250, 263, 265, 269, 271, 272, 279, 280, 287, 288, 291, 292, 293, 296, 302, 303, 304, 308, 313, 314, 316, 319, 321, 322, 329, 333, 334, 335, 337, 339, 340, 341, 346, 348, 352, 353, 354, 358, 365, 369, 371, 378, 379, 384, 395, 401, 422, 423, 433, 447, 449, 451, 453, 461, 467, 468, 469, 470, 484, 486, 494, 496, 501, 503, 509, 514, 525, 527, 533, 537, 539, 540, 545, 548, 554, 555, 558, 564, 569, 571, 573, 578, 601, 610, 611, 612, 614, 615, 617, 619, 620, 623, 639, 640, 648, 663, 677, 686, 694, 695, 703, 706, 708, 709, 714, 716, 743, 746, 747, 752, 771, 772, 773, 781, 806, 810, 811, 815, 816, 818, 829, 830, 834, 835, 836, 839, 854, 857, 858, 862, 865, 868, 870, 871, 876, 877, 884, 885, 888, 894, 904, 907, 910, 919, 930, 931, 935, 937, 938, 967, 977, 999, 1014, 1018, 1023, 1024, 1025, 1027, 1038, 1058, 1071, 1073, 1075, 1076, 1080, 1086, 1089, 1091, 1094, 1099, 1100, 1108, 1111, 1114, 1123, 1124, 1126, 1137, 1143, 1153, 1155, 1168, 1178, 1188, 1189, 1208, 1218, 1228, 1230, 1241, 1243, 1246, 1247, 1248, 1250, 1254, 1257, 1259, 1262, 1277, 1279, 1285, 1288, 1289, 1305, 1306, 1307, 1308, 1310, 1317, 1322, 1325, 1329, 1334, 1350, 1360, 1370, 1374, 1389, 1391, 1403, 1405, 1413, 1418, 1444, 1446, 1450, 1468, 1474, 1481, 1493, 1495, 1501, 1502, 1504, 1506, 1507, 1511, 1512, 1517, 1518, 1519, 1522, 1528, 1529, 1537, 1546, 1547, 1551, 1554, 1559, 1585, 1590, 1591, 1596, 1598, 1599, 1600, 1601, 1610, 1625, 1626, 1629, 1635, 1640, 1646, 1647, 1658, 1660, 1665, 1672, 1675, 1676, 1677, 1684, 1699, 1701, 1706, 1708, 1710, 1711, 1712, 1714, 1716, 1718, 1719, 1720, 1721, 1723, 1727, 1729, 1730, 1731, 1732, 1735, 1736, 1737, 1739, 1740, 1741, 1743, 1747, 1751, 1756, 1757, 1761, 1763, 1764, 1765, 1768, 1769, 1775, 1777, 1781, 1785, 1786, 1787, 1791, 1792, 1793, 1796, 1797, 1802, 1803, 1806, 1807, 1810, 1811, 1816, 1825, 1827, 1831, 1846, 1847, 1880, 1884, 1885, 1895, 1896, 1908, 1915, 1918, 1922, 1923, 1939, 1940, 1965, 1973, 1982, 1984, 1985, 1986, 1987, 1989, 1991, 1994, 1997, 2001, 2010, 2013, 2016, 2022, 2027, 2028, 2039, 2040, 2048, 2051, 2052, 2053, 2054, 2056, 2062, 2064, 2067, 2068, 2070, 2075, 2077, 2079, 2081, 2084, 2095, 2106, 2129, 2136, 2137, 2143, 2145, 2151, 2161, 2164, 2167, 2168, 2169, 2170, 2171, 2172, 2175, 2177, 2180, 2181, 2186, 2191, 2194, 2197, 2198, 2199, 2200, 2202, 2207, 2220, 2224, 2225, 2227, 2228, 2232, 2234, 2239, 2246, 2252, 2262, 2264, 2265, 2335, 2337, 2338, 2340, 2342, 2344, 2345, 2346, 2347, 2353, 2357, 2358, 2363, 2370, 2377, 2386, 2399, 2405, 2408, 2410, 2421, 2423, 2450, 2451, 2457, 2458, 2470, 2472, 2474, 2480, 2481, 2487, 2491, 2495, 2498, 2499, 2500, 2501, 2502, 2503, 2506, 2508, 2509, 2511, 2512, 2513, 2515, 2518, 2523, 2525, 2526, 2529, 2530, 2531, 2532, 2534, 2537, 2538, 2539, 2544, 2545, 2549, 2554, 2559, 2560, 2574, 2577, 2579, 2586, 2590, 2591, 2600, 2601, 2603, 2604, 2606, 2607, 2609, 2611, 2612, 2614, 2619, 2620, 2626, 2632, 2634, 2638, 2641, 2648, 2654, 2656, 2667, 2673, 2676, 2702, 2704, 2706, 2707, 2708, 2709, 2713, 2725, 2729, 2767, 2771, 2781, 2783, 2785, 2791, 2819, 2823, 2825, 2826, 2830, 2832, 2834, 2836, 2838, 2846, 2847, 2849, 2851, 2852, 2855, 2856, 2861, 2867, 2869, 2872, 2874, 2875, 2876, 2877, 2879, 2883, 2890, 2895, 2900, 2909, 2911, 2912, 2914, 2935, 2957, 2959, 2960, 2961, 2964, 2977, 2978, 2987, 2988, 2989, 2994, 2998, 3000, 3003, 3004, 3007, 3010, 3011, 3015, 3017, 3018, 3023, 3026, 3036, 3038, 3042, 3044, 3054, 3055, 3058, 3061, 3062, 3067, 3072, 3081, 3082, 3090, 3096, 3098, 3100, 3102, 3104, 3110, 3117, 3122, 3130, 3134, 3136, 3137, 3138, 3142, 3146, 3147, 3151, 3157, 3161, 3167, 3168, 3171, 3172, 3173, 3175, 3176, 3180, 3181, 3182, 3184, 3193, 3197, 3201, 3202, 3204, 3205, 3206, 3212, 3234, 3236, 3244, 3258, 3259, 3260, 3266, 3267, 3274, 3275, 3276, 3277, 3278, 3283, 3284, 3291, 3292, 3293, 3294, 3297, 3298, 3299, 3300, 3302, 3313, 3314, 3322, 3323, 3324, 3330, 3340, 3352, 3356, 3357, 3359, 3360, 3361, 3367, 3373, 3379, 3381, 3386, 3387, 3389, 3397, 3398, 3407, 3414, 3418, 3419, 3451, 3452, 3454, 3455, 3458, 3461, 3464, 3466, 3467, 3484, 3485, 3487, 3488, 3492, 3494, 3504, 3511, 3515, 3525, 3528, 3532, 3533, 3534, 3535, 3536, 3537, 3538, 3539, 3542, 3543, 3544, 3546, 3547, 3550, 3555, 3559, 3560, 3566, 3568, 3570, 3571, 3572, 3591, 3596, 3597, 3602, 3603, 3604, 3609, 3610, 3617, 3618, 3619, 3620, 3623, 3624, 3630, 3632, 3633, 3634, 3637, 3641, 3650, 3654, 3655, 3656, 3658, 3667, 3668, 3683, 3688, 3691, 3692, 3695, 3707, 3714, 3719, 3723, 3734, 3739, 3740, 3745, 3748, 3750, 3751, 3754, 3755, 3756, 3760, 3767, 3770, 3773, 3777, 3780, 3792, 3793, 3799, 3814, 3821, 3838, 3839, 3840, 3843, 3844, 3848, 3865, 3871, 3872, 3875, 3883, 3926, 3928, 3929, 3930, 3936, 3939, 3940, 3941, 3947, 3950, 3951, 3954, 3955, 3957, 3958, 3969, 3974, 3975, 3981, 3985, 3986, 3988, 3990, 3996, 4001, 4003, 4004, 4006, 4007, 4009, 4011, 4012, 4015, 4021, 4023, 4027, 4028, 4034, 4035, 4039, 4041, 4042, 4048, 4049, 4050, 4054, 4055, 4067, 4069, 4085, 4096, 4097, 4099, 4103, 4119, 4121, 4122, 4130, 4137, 4143, 4145, 4150, 4151, 4152, 4156, 4166, 4169, 4174, 4176, 4181, 4182, 4187, 4198, 4203, 4207, 4212, 4213, 4215, 4216, 4217, 4225, 4226, 4229, 4230, 4232, 4237, 4238, 4239, 4241, 4242, 4246, 4247, 4248, 4252, 4253, 4256, 4260, 4263, 4269, 4272, 4277, 4281, 4283, 4284, 4285, 4286, 4292, 4296, 4299, 4308, 4311, 4314, 4325, 4327, 4329, 4330, 4337, 4342, 4343, 4356, 4357, 4360, 4361, 4362, 4373, 4375, 4376, 4377, 4380, 4381, 4382, 4383, 4384, 4390, 4391, 4392, 4395, 4397, 4398, 4404, 4405, 4408, 4409, 4453, 4454, 4455, 4456, 4458, 4464, 4466, 4467, 4472, 4473, 4476, 4480, 4481, 4482, 4485, 4491, 4500, 4505, 4506, 4507, 4508, 4511, 4514, 4519, 4521, 4522, 4525, 4528, 4531, 4536, 4539, 4541, 4546, 4547, 4549, 4555, 4557, 4564, 4567, 4568, 4571, 4572, 4573, 4575, 4580, 4593, 4594, 4595, 4600, 4601, 4607, 4611, 4618, 4623, 4624, 4626, 4628, 4632, 4637, 4638, 4640, 4645, 4646, 4648, 4653, 4655, 4656, 4657, 4663, 4664, 4665, 4674, 4678, 4680, 4687, 4688, 4693, 4704, 4715, 4728, 4732, 4737, 4741, 4750, 4758, 4761, 4762, 4768, 4773, 4776, 4777, 4778, 4779, 4780, 4783, 4786, 4787, 4796, 4804, 4809, 4810, 4811, 4814, 4815, 4818, 4819, 4821, 4824, 4827, 4835, 4838, 4840, 4845, 4851, 4854, 4855, 4856, 4859, 4902, 4903, 4905, 4906, 4907, 4908, 4909, 4914, 4917, 4920, 4925, 4926, 4929, 4930, 4931, 4932, 4936, 4938, 4939, 4940, 4942, 4943, 4946, 4947, 4949, 4950, 4951, 4952, 4954, 4955, 4956, 4957, 4958, 4959, 4961, 4967, 4968, 4970, 4976, 4979, 4982, 4983, 4987, 4988, 4991, 4992, 4994, 4998, 5000, 5003, 5010, 5013, 5016, 5019, 5024, 5030, 5031, 5032, 5033, 5036, 5039, 5041, 5046, 5048, 5050, 5053, 5056, 5065, 5066, 5067, 5069, 5072, 5076, 5077, 5082, 5084, 5086, 5090, 5092, 5095, 5096, 5098, 5099, 5110, 5112, 5113, 5114, 5115, 5119, 5122, 5123, 5125, 5126, 5129, 5141, 5142, 5143, 5144, 5146, 5147, 5148, 5149, 5150, 5152, 5155, 5156, 5161, 5162, 5166, 5167, 5172, 5173, 5175, 5176, 5179, 5181, 5182, 5183, 5188, 5189, 5193, 5194, 5197, 5201, 5202, 5203, 5204, 5205, 5213, 5214, 5215, 5216, 5217, 5222, 5225, 5227, 5229, 5230, 5231, 5232, 5234, 5235, 5236, 5238, 5239, 5243, 5247, 5248, 5251, 5253, 5254, 5255, 5256, 5257, 5260, 5263, 5265, 5268, 5271, 5275, 5278, 5279, 5282, 5288, 5290, 5298, 5299, 5310, 5314, 5316, 5318, 5324, 5326, 5338, 5339, 5340, 5347, 5348, 5350, 5401, 5402, 5403, 5404, 5406, 5407, 5408, 5409, 5412, 5413, 5418, 5420, 5421, 5422, 5423, 5424, 5426, 5428, 5434, 5436, 5438, 5439, 5440, 5442, 5443, 5447, 5448, 5457, 5459, 5460, 5462, 5464, 5467, 5470, 5471, 5473, 5478, 5483, 5484, 5486, 5487, 5490, 5491, 5492, 5498, 5501, 5502, 5504, 5505, 5506, 5509, 5517, 5519, 5523, 5524, 5525, 5527, 5528, 5530, 5531, 5532, 5533, 5534, 5535, 5538, 5541, 5542, 5546, 5547, 5549, 5552, 5553, 5555, 5556, 5559, 5560, 5561, 5562, 5563, 5567, 5569, 5570, 5576, 5577, 5583, 5585, 5586, 5587, 5589, 5590, 5595, 5596, 5599, 5603, 5610, 5612, 5618, 5619, 5622, 5623, 5624, 5626, 5633, 5637, 5638, 5641, 5642, 5652, 5653, 5658, 5659, 5660, 5661, 5662, 5664, 5666, 5667, 5672, 5674, 5675, 5676, 5680, 5684, 5685, 5686, 5687, 5688, 5689, 5690, 5694, 5695, 5697, 5701, 5702, 5703, 5704, 5706, 5708, 5709, 5710, 5712, 5713, 5714, 5719, 5720, 5724, 5730, 5732, 5735, 5736, 5740, 5746, 5752, 5756, 5758, 5774, 5776, 5781, 5801, 5804, 5806, 5809, 5811, 5813, 5821, 5822, 5826, 5830, 5834, 5836, 5837, 5841, 5843, 5844, 5846, 5847, 5853, 5855, 5856, 5859, 5860, 5865, 5870, 5878, 5881, 5882, 5883, 5885, 5891, 5895, 5901, 5902, 5903, 5906, 5907, 5910, 5911, 5912, 5913, 5914, 5915, 5918, 5921, 5926, 5927, 5929, 5934, 5935, 5938, 5943, 5944, 5945, 5947, 5950, 5952, 5954, 5955, 5957, 5962, 5963, 5964, 5968, 5969, 5973, 5976, 5979, 5980, 5982, 5989, 5991, 5992, 5994, 5996, 5998, 5999, 6002, 6005, 6009, 6011, 6012, 6013, 6016, 6019, 6020, 6021, 6022, 6024, 6027, 6029, 6032, 6033, 6034, 6043, 6044, 6046, 6047, 6052, 6053, 6054, 6056, 6057, 6065, 6066, 6067, 6070, 6071, 6073, 6074, 6075, 6077, 6078, 6079, 6081, 6083, 6084, 6085, 6086, 6087, 6088, 6089, 6090, 6091, 6092, 6093, 6094, 6096, 6097, 6098, 6099, 6100, 6101, 6102, 6108, 6110, 6112, 6113, 6114, 6116, 6117, 6119, 6120, 6121, 6122, 6128, 6130, 6132, 6135, 6136, 6138, 6140, 6141, 6146, 6147, 6150, 6152, 6153, 6157, 6160, 6161, 6162, 6164, 6166, 6172, 6175, 6176, 6181, 6185, 6189, 6190, 6191, 6193, 6194, 6195, 6201, 6202, 6203, 6213, 6217, 6223, 6224, 6226, 6236, 6237, 6239, 6300, 6301, 6308, 6309, 6312, 6313, 6317, 6318, 6320, 6323, 6324, 6326, 6327, 6328, 6329, 6330, 6331, 6333, 6334, 6335, 6336, 6337, 6338, 6339, 6342, 6344, 6345, 6346, 6347, 6355, 6359, 6367, 6371, 6378, 6379, 6381, 6387, 6391, 6397, 6401, 6412, 6417, 6419, 6420, 6421, 6422, 6423, 6424, 6425, 6428, 6451, 6453, 6455, 6460, 6461, 6463, 6467, 6480, 6481, 6484, 6490, 6493, 6498, 6504, 6505, 6511, 6513, 6514, 6520, 6528, 6529, 6531, 6532, 6533, 6534, 6536, 6537, 6538, 6540, 6541, 6542, 6543, 6544, 6545, 6548, 6549, 6550, 6552, 6556, 6557, 6558, 6559, 6561, 6564, 6566, 6567, 6568, 6569, 6570, 6571, 6573, 6574, 6580, 6581, 6582, 6583, 6584, 6588, 6589, 6590, 6591, 6592, 6593, 6594, 6595, 6597, 6599, 6600, 6601, 6610, 6611, 6613, 6615, 6616, 6617, 6618, 6620, 6621, 6622, 6624, 6627, 6628, 6630, 6631, 6632, 6633, 6635, 6636, 6637, 6638, 6642, 6643, 6648, 6649, 6651, 6660, 6663, 6667, 6670, 6675, 6678, 6690, 6691, 6707, 6709, 6720, 6721, 6723, 6725, 6731, 6732, 6742, 6744, 6745, 6746, 6749, 6753, 6758, 6762, 6763, 6765]\n"
     ]
    }
   ],
   "source": [
    "print(north_teams)"
   ]
  },
  {
   "cell_type": "code",
   "execution_count": 132,
   "metadata": {
    "collapsed": false
   },
   "outputs": [
    {
     "name": "stdout",
     "output_type": "stream",
     "text": [
      "[4, 8, 16, 21, 31, 34, 59, 60, 79, 86, 100, 108, 114, 115, 118, 148, 159, 179, 180, 192, 199, 207, 231, 233, 253, 254, 256, 281, 283, 294, 295, 299, 330, 342, 343, 359, 360, 364, 368, 383, 386, 399, 418, 435, 441, 442, 456, 457, 488, 492, 498, 538, 547, 568, 580, 581, 585, 587, 589, 590, 597, 599, 604, 606, 624, 647, 649, 653, 662, 668, 670, 687, 691, 692, 696, 698, 701, 702, 704, 744, 751, 753, 766, 801, 812, 832, 841, 842, 846, 847, 848, 852, 867, 900, 932, 945, 948, 949, 955, 957, 968, 971, 972, 973, 980, 981, 987, 988, 991, 996, 997, 1002, 1011, 1051, 1056, 1065, 1072, 1102, 1138, 1156, 1157, 1159, 1160, 1164, 1165, 1197, 1209, 1212, 1225, 1245, 1251, 1255, 1258, 1261, 1266, 1280, 1287, 1290, 1293, 1294, 1296, 1303, 1311, 1318, 1319, 1323, 1332, 1339, 1351, 1359, 1369, 1378, 1382, 1388, 1398, 1410, 1414, 1421, 1422, 1425, 1432, 1452, 1458, 1466, 1477, 1482, 1492, 1510, 1515, 1523, 1533, 1538, 1539, 1540, 1553, 1557, 1561, 1566, 1569, 1571, 1572, 1573, 1574, 1576, 1577, 1580, 1583, 1584, 1592, 1595, 1619, 1622, 1633, 1642, 1644, 1648, 1649, 1657, 1661, 1662, 1671, 1678, 1683, 1690, 1700, 1726, 1742, 1744, 1745, 1746, 1750, 1758, 1759, 1771, 1772, 1778, 1795, 1799, 1817, 1818, 1828, 1836, 1860, 1868, 1872, 1876, 1891, 1899, 1902, 1912, 1927, 1937, 1942, 1943, 1944, 1954, 1967, 1972, 1977, 1983, 2002, 2004, 2035, 2036, 2046, 2059, 2073, 2078, 2080, 2083, 2085, 2090, 2096, 2102, 2122, 2130, 2135, 2141, 2144, 2147, 2148, 2149, 2152, 2158, 2165, 2183, 2187, 2190, 2204, 2212, 2221, 2230, 2231, 2240, 2259, 2261, 2283, 2333, 2341, 2352, 2354, 2359, 2367, 2373, 2374, 2375, 2383, 2388, 2393, 2395, 2398, 2403, 2404, 2411, 2412, 2415, 2424, 2425, 2429, 2437, 2438, 2439, 2441, 2443, 2444, 2445, 2449, 2461, 2465, 2468, 2471, 2473, 2477, 2478, 2484, 2485, 2486, 2489, 2493, 2496, 2504, 2521, 2522, 2543, 2550, 2551, 2555, 2556, 2557, 2576, 2582, 2583, 2585, 2587, 2594, 2605, 2613, 2630, 2635, 2637, 2640, 2642, 2643, 2647, 2655, 2657, 2658, 2659, 2662, 2679, 2682, 2721, 2723, 2733, 2761, 2765, 2773, 2789, 2795, 2797, 2805, 2811, 2813, 2815, 2827, 2839, 2840, 2844, 2848, 2853, 2854, 2881, 2882, 2896, 2897, 2898, 2903, 2905, 2906, 2907, 2910, 2915, 2916, 2923, 2926, 2928, 2929, 2930, 2942, 2944, 2945, 2950, 2969, 2972, 2973, 2974, 2976, 2980, 2984, 2986, 2990, 2992, 2993, 2996, 3005, 3006, 3008, 3009, 3013, 3019, 3021, 3024, 3028, 3029, 3034, 3035, 3037, 3039, 3043, 3045, 3049, 3065, 3070, 3075, 3083, 3091, 3103, 3120, 3128, 3131, 3132, 3133, 3139, 3140, 3145, 3152, 3158, 3160, 3163, 3164, 3166, 3179, 3187, 3189, 3196, 3200, 3211, 3215, 3216, 3218, 3219, 3220, 3223, 3225, 3229, 3230, 3238, 3239, 3240, 3242, 3243, 3245, 3247, 3250, 3255, 3256, 3257, 3265, 3268, 3282, 3288, 3289, 3295, 3303, 3305, 3309, 3310, 3316, 3318, 3319, 3321, 3328, 3329, 3331, 3335, 3336, 3337, 3339, 3341, 3344, 3345, 3350, 3354, 3355, 3366, 3370, 3374, 3388, 3390, 3393, 3402, 3405, 3408, 3410, 3417, 3453, 3457, 3459, 3465, 3468, 3470, 3472, 3473, 3476, 3478, 3480, 3481, 3482, 3489, 3490, 3491, 3495, 3498, 3501, 3506, 3507, 3510, 3512, 3513, 3527, 3545, 3556, 3561, 3562, 3573, 3574, 3575, 3577, 3581, 3588, 3593, 3598, 3606, 3612, 3615, 3616, 3627, 3635, 3636, 3646, 3647, 3648, 3651, 3653, 3660, 3661, 3663, 3666, 3669, 3673, 3674, 3676, 3679, 3680, 3684, 3693, 3694, 3700, 3704, 3711, 3712, 3721, 3728, 3729, 3735, 3737, 3741, 3743, 3749, 3753, 3759, 3781, 3785, 3786, 3789, 3794, 3796, 3800, 3802, 3807, 3812, 3815, 3822, 3824, 3826, 3834, 3835, 3845, 3847, 3851, 3853, 3859, 3861, 3863, 3876, 3878, 3880, 3881, 3882, 3925, 3931, 3932, 3933, 3937, 3944, 3946, 3952, 3953, 3959, 3965, 3966, 3970, 3971, 3976, 3984, 3991, 3993, 3997, 3998, 3999, 4005, 4010, 4013, 4014, 4019, 4020, 4024, 4026, 4043, 4051, 4053, 4056, 4057, 4060, 4061, 4063, 4064, 4065, 4068, 4073, 4074, 4075, 4076, 4077, 4078, 4079, 4080, 4083, 4087, 4089, 4091, 4098, 4104, 4107, 4110, 4111, 4112, 4114, 4118, 4120, 4123, 4125, 4127, 4131, 4132, 4135, 4139, 4141, 4146, 4153, 4159, 4160, 4161, 4171, 4173, 4175, 4179, 4180, 4183, 4186, 4188, 4189, 4191, 4192, 4193, 4195, 4201, 4205, 4206, 4209, 4219, 4235, 4240, 4243, 4255, 4262, 4264, 4265, 4267, 4268, 4270, 4276, 4290, 4291, 4293, 4295, 4298, 4301, 4306, 4309, 4319, 4320, 4322, 4328, 4332, 4334, 4335, 4336, 4338, 4348, 4353, 4355, 4364, 4371, 4378, 4386, 4388, 4400, 4401, 4403, 4412, 4415, 4416, 4418, 4450, 4451, 4459, 4461, 4462, 4468, 4469, 4470, 4471, 4486, 4488, 4490, 4495, 4496, 4499, 4501, 4504, 4509, 4512, 4513, 4516, 4517, 4523, 4524, 4529, 4533, 4534, 4537, 4543, 4550, 4561, 4562, 4565, 4576, 4578, 4579, 4582, 4583, 4584, 4585, 4586, 4587, 4590, 4592, 4597, 4598, 4603, 4604, 4608, 4610, 4613, 4614, 4616, 4619, 4622, 4625, 4627, 4630, 4634, 4635, 4639, 4641, 4643, 4649, 4661, 4662, 4669, 4681, 4682, 4683, 4685, 4692, 4694, 4696, 4698, 4701, 4707, 4711, 4717, 4723, 4726, 4729, 4730, 4731, 4733, 4734, 4735, 4738, 4739, 4740, 4744, 4746, 4748, 4749, 4757, 4763, 4765, 4767, 4769, 4774, 4775, 4782, 4784, 4792, 4795, 4799, 4801, 4802, 4816, 4817, 4823, 4828, 4829, 4841, 4847, 4904, 4910, 4911, 4913, 4915, 4918, 4919, 4924, 4933, 4935, 4941, 4944, 4964, 4965, 4973, 4978, 4980, 4984, 4985, 4990, 4999, 5001, 5002, 5005, 5006, 5012, 5015, 5020, 5022, 5025, 5026, 5027, 5038, 5045, 5047, 5049, 5052, 5057, 5058, 5059, 5063, 5070, 5071, 5074, 5078, 5085, 5087, 5089, 5093, 5101, 5102, 5103, 5104, 5107, 5109, 5111, 5118, 5124, 5132, 5133, 5134, 5135, 5136, 5137, 5145, 5153, 5159, 5160, 5168, 5171, 5178, 5180, 5186, 5190, 5196, 5198, 5199, 5200, 5207, 5209, 5212, 5219, 5241, 5242, 5261, 5273, 5274, 5276, 5283, 5285, 5291, 5293, 5295, 5308, 5312, 5317, 5325, 5327, 5329, 5331, 5332, 5333, 5344, 5410, 5411, 5414, 5417, 5427, 5429, 5430, 5431, 5432, 5437, 5445, 5449, 5450, 5451, 5453, 5454, 5458, 5461, 5465, 5468, 5472, 5474, 5477, 5480, 5482, 5493, 5495, 5496, 5499, 5500, 5503, 5507, 5508, 5510, 5511, 5512, 5514, 5515, 5516, 5518, 5522, 5526, 5536, 5544, 5550, 5551, 5554, 5557, 5558, 5564, 5565, 5568, 5572, 5573, 5578, 5582, 5584, 5588, 5593, 5597, 5605, 5606, 5607, 5608, 5611, 5613, 5614, 5616, 5621, 5625, 5627, 5630, 5632, 5634, 5635, 5636, 5639, 5648, 5651, 5654, 5657, 5663, 5665, 5669, 5677, 5678, 5679, 5681, 5682, 5683, 5696, 5700, 5705, 5715, 5716, 5721, 5722, 5725, 5726, 5727, 5728, 5729, 5734, 5737, 5744, 5747, 5748, 5750, 5753, 5754, 5762, 5763, 5765, 5771, 5773, 5775, 5777, 5783, 5785, 5800, 5802, 5803, 5805, 5810, 5814, 5816, 5817, 5818, 5819, 5820, 5823, 5827, 5828, 5829, 5831, 5835, 5839, 5840, 5842, 5845, 5848, 5849, 5851, 5852, 5854, 5857, 5858, 5863, 5864, 5866, 5869, 5871, 5872, 5874, 5875, 5876, 5877, 5887, 5888, 5889, 5892, 5893, 5894, 5897, 5898, 5899, 5900, 5905, 5908, 5919, 5920, 5923, 5924, 5928, 5930, 5932, 5933, 5937, 5940, 5941, 5942, 5948, 5949, 5951, 5953, 5956, 5959, 5960, 5965, 5966, 5970, 5971, 5974, 5975, 5977, 5981, 5983, 5984, 5985, 5986, 5987, 5988, 5990, 5993, 5997, 6000, 6001, 6003, 6004, 6007, 6008, 6010, 6017, 6023, 6025, 6026, 6028, 6035, 6036, 6038, 6039, 6041, 6048, 6049, 6050, 6055, 6058, 6059, 6060, 6061, 6062, 6063, 6064, 6068, 6069, 6072, 6076, 6103, 6104, 6105, 6106, 6107, 6111, 6118, 6123, 6126, 6127, 6129, 6131, 6133, 6139, 6144, 6145, 6149, 6155, 6156, 6167, 6168, 6169, 6170, 6171, 6173, 6174, 6177, 6178, 6179, 6180, 6183, 6184, 6186, 6187, 6188, 6199, 6200, 6204, 6210, 6214, 6215, 6218, 6219, 6220, 6221, 6222, 6225, 6230, 6232, 6240, 6302, 6304, 6305, 6306, 6314, 6315, 6319, 6321, 6322, 6325, 6332, 6340, 6341, 6343, 6348, 6349, 6350, 6351, 6352, 6353, 6354, 6356, 6357, 6358, 6360, 6361, 6362, 6363, 6364, 6365, 6366, 6369, 6372, 6373, 6374, 6375, 6376, 6377, 6380, 6382, 6383, 6384, 6385, 6386, 6388, 6389, 6390, 6392, 6393, 6394, 6395, 6396, 6398, 6399, 6400, 6402, 6403, 6404, 6405, 6406, 6407, 6408, 6409, 6410, 6411, 6413, 6414, 6415, 6416, 6418, 6426, 6429, 6430, 6431, 6432, 6433, 6434, 6435, 6436, 6437, 6439, 6440, 6441, 6442, 6443, 6444, 6445, 6447, 6448, 6449, 6450, 6456, 6457, 6458, 6459, 6462, 6464, 6465, 6468, 6471, 6472, 6473, 6474, 6476, 6479, 6482, 6483, 6485, 6487, 6488, 6489, 6491, 6492, 6494, 6499, 6500, 6502, 6503, 6506, 6507, 6508, 6509, 6510, 6512, 6515, 6517, 6518, 6519, 6522, 6523, 6524, 6525, 6526, 6527, 6530, 6535, 6546, 6547, 6553, 6554, 6560, 6562, 6563, 6565, 6575, 6579, 6585, 6586, 6602, 6603, 6604, 6605, 6606, 6607, 6608, 6609, 6612, 6614, 6619, 6623, 6626, 6634, 6639, 6640, 6641, 6644, 6645, 6646, 6647, 6650, 6652, 6653, 6654, 6655, 6656, 6657, 6658, 6659, 6662, 6664, 6665, 6666, 6668, 6669, 6671, 6672, 6673, 6674, 6676, 6677, 6679, 6680, 6681, 6682, 6683, 6684, 6685, 6686, 6687, 6688, 6689, 6692, 6693, 6694, 6695, 6696, 6697, 6699, 6700, 6701, 6702, 6703, 6704, 6705, 6706, 6708, 6710, 6711, 6712, 6714, 6715, 6716, 6717, 6718, 6719, 6722, 6724, 6727, 6728, 6729, 6730, 6733, 6734, 6736, 6737, 6738, 6739, 6740, 6741, 6743, 6748, 6750, 6751, 6752, 6754, 6755, 6756, 6757, 6759, 6764, 6766, 6768, 6769, 6770, 6771]\n"
     ]
    }
   ],
   "source": [
    "print(south_teams)"
   ]
  },
  {
   "cell_type": "code",
   "execution_count": null,
   "metadata": {
    "collapsed": true
   },
   "outputs": [],
   "source": []
  }
 ],
 "metadata": {
  "anaconda-cloud": {},
  "kernelspec": {
   "display_name": "Python [conda root]",
   "language": "python",
   "name": "conda-root-py"
  },
  "language_info": {
   "codemirror_mode": {
    "name": "ipython",
    "version": 3
   },
   "file_extension": ".py",
   "mimetype": "text/x-python",
   "name": "python",
   "nbconvert_exporter": "python",
   "pygments_lexer": "ipython3",
   "version": "3.5.2"
  }
 },
 "nbformat": 4,
 "nbformat_minor": 1
}
